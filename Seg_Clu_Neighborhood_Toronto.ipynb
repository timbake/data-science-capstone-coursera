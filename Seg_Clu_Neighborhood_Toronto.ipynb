{
    "nbformat_minor": 1, 
    "cells": [
        {
            "source": "## Segmenting and Clustering Neighborhoods in Toronto", 
            "cell_type": "markdown", 
            "metadata": {
                "collapsed": true
            }
        }, 
        {
            "execution_count": 1, 
            "cell_type": "code", 
            "metadata": {}, 
            "outputs": [], 
            "source": "import requests\nimport pandas as pd\nfrom lxml import etree\nfrom bs4 import BeautifulSoup as bsoup\nimport os"
        }, 
        {
            "execution_count": 2, 
            "cell_type": "code", 
            "metadata": {}, 
            "outputs": [], 
            "source": "# The code was removed by Watson Studio for sharing."
        }, 
        {
            "execution_count": 3, 
            "cell_type": "code", 
            "metadata": {}, 
            "outputs": [], 
            "source": "wikipedia_link='https://en.wikipedia.org/wiki/List_of_postal_codes_of_Canada:_M'"
        }, 
        {
            "execution_count": 4, 
            "cell_type": "code", 
            "metadata": {}, 
            "outputs": [], 
            "source": "raw_random_wikipedia_page = requests.get(wikipedia_link)"
        }, 
        {
            "execution_count": 5, 
            "cell_type": "code", 
            "metadata": {}, 
            "outputs": [], 
            "source": "page = raw_random_wikipedia_page.text\n#print(page)"
        }, 
        {
            "execution_count": 6, 
            "cell_type": "code", 
            "metadata": {}, 
            "outputs": [], 
            "source": "soup = bsoup(page, \"lxml\")\ntablePostalCode = soup.find_all(\"table\")[0]\nrows = tablePostalCode.find_all(\"tr\")\nlistPostalCode = []\nfor row in rows:\n    tds = row.find_all(\"td\")\n    for td in tds:\n        if (td.p.span.find(\"i\") is not None) and (\"Not assigned\" in td.p.span.i.text):\n            continue\n        spanText = td.p.span.text\n        code = td.p.b.text\n        aTags = td.find_all(\"a\")\n        if len(aTags) <= 0:\n            continue\n        borough = aTags[0].text\n        listNeighborhood = []\n        if len(aTags) > 1:\n            neighborhood = spanText[spanText.find(\"(\") + 1: len(spanText) - 1]\n        else:\n            neighborhood = borough\n        listPostalCode.append({\"PostalCode\": code, \"Borough\": borough, \"Neighborhood\": neighborhood})\n#listPostalCode"
        }, 
        {
            "execution_count": 7, 
            "cell_type": "code", 
            "metadata": {}, 
            "outputs": [
                {
                    "execution_count": 7, 
                    "metadata": {}, 
                    "data": {
                        "text/html": "<div>\n<style scoped>\n    .dataframe tbody tr th:only-of-type {\n        vertical-align: middle;\n    }\n\n    .dataframe tbody tr th {\n        vertical-align: top;\n    }\n\n    .dataframe thead th {\n        text-align: right;\n    }\n</style>\n<table border=\"1\" class=\"dataframe\">\n  <thead>\n    <tr style=\"text-align: right;\">\n      <th></th>\n      <th>PostalCode</th>\n      <th>Borough</th>\n      <th>Neighborhood</th>\n    </tr>\n  </thead>\n  <tbody>\n    <tr>\n      <th>0</th>\n      <td>M3A</td>\n      <td>North York</td>\n      <td>Parkwoods</td>\n    </tr>\n    <tr>\n      <th>1</th>\n      <td>M4A</td>\n      <td>North York</td>\n      <td>Victoria Village</td>\n    </tr>\n    <tr>\n      <th>2</th>\n      <td>M5A</td>\n      <td>Downtown Toronto</td>\n      <td>Regent Park / Harbourfront</td>\n    </tr>\n    <tr>\n      <th>3</th>\n      <td>M6A</td>\n      <td>North York</td>\n      <td>Lawrence Manor / Lawrence Heights</td>\n    </tr>\n    <tr>\n      <th>4</th>\n      <td>M7A</td>\n      <td>Queen's Park</td>\n      <td>Queen's Park</td>\n    </tr>\n  </tbody>\n</table>\n</div>", 
                        "text/plain": "  PostalCode           Borough                       Neighborhood\n0        M3A        North York                          Parkwoods\n1        M4A        North York                   Victoria Village\n2        M5A  Downtown Toronto         Regent Park / Harbourfront\n3        M6A        North York  Lawrence Manor / Lawrence Heights\n4        M7A      Queen's Park                       Queen's Park"
                    }, 
                    "output_type": "execute_result"
                }
            ], 
            "source": "columns = [\"PostalCode\", \"Borough\", \"Neighborhood\"]\ndfPostalCode = pd.DataFrame.from_records(data=listPostalCode, columns=columns)\ndfPostalCode.head()"
        }, 
        {
            "source": "Explain my work and any assumptions I made:\nFirstly, I used etree lib from lxml to scrap Postal Code table content, then pd.read_html lib to convert html content to data frame as code below:\n\nroot = etree.XML(page)\n\ntableTag = etree.XPath(\"//table\")\n\npostalCodeTorontoElems = tableTag(root)[0]\n\nlistDfTorontoPostalCode = pd.read_html(etree.tostring(postalCodeTorontoElems,method='html'))\n\nlistCol = list(listDfTorontoPostalCode[0].columns)\n\nprint(listDfTorontoPostalCode[0].shape)\n\ndfTorontoPostalCode = listDfTorontoPostalCode[0]\n\nI realized that there were some difficult cases to seperate which is borough or neighborhood, because the format/structure of cells in Wiki Postal Code table was not the same while all content in each cell of data frame is text and no spaces. For example, cell(1,7), cell(3,3), cell(2,8), cell(3,8).\n\nThus, I used etree lib to read and seperate each element that I was interested in. But it's not a good way.\n\nThen, it's realy luck to me when I saw the note in this assignment. I used BeautifulSoup lib as recommendation in note of assignment. It's really easy and make my task on the fly!\n\nI supposed that the first a tag is represented the borough, and all text in \"()\" is represented the list of neighborhoods in borough.", 
            "cell_type": "markdown", 
            "metadata": {}
        }, 
        {
            "execution_count": 8, 
            "cell_type": "code", 
            "metadata": {}, 
            "outputs": [
                {
                    "execution_count": 8, 
                    "metadata": {}, 
                    "data": {
                        "text/plain": "(101, 3)"
                    }, 
                    "output_type": "execute_result"
                }
            ], 
            "source": "dfPostalCode.shape"
        }, 
        {
            "source": "## Make calls to the Google Geocoding API to get the latitude and longitude coordinates of the postal codes in dataframe", 
            "cell_type": "markdown", 
            "metadata": {}
        }, 
        {
            "execution_count": 23, 
            "cell_type": "code", 
            "metadata": {}, 
            "outputs": [], 
            "source": "# The code was removed by Watson Studio for sharing."
        }, 
        {
            "execution_count": 24, 
            "cell_type": "code", 
            "metadata": {}, 
            "outputs": [], 
            "source": "def updateLatLngForTorontoPostalCode(dfPostalCode):\n    if os.path.isfile('TorontoPostalCode.csv'):\n        print(\"Load data from csv\")\n        dfPostalCode = pd.read_csv('TorontoPostalCode.csv')\n    else:\n        print(\"Make request to Google Geocoding API\")\n        for row in list(range(0,dfPostalCode.shape[0])):\n            #print(\"At index: {0}, Postal Code: {1}\".format(row, dfPostalCode.iloc[row,0]))\n            url = URL.format(API_KEY, dfPostalCode.iloc[row,0])\n            #print(\"Get url: {0}\".format(url))\n            response = requests.get(url).json() # get response\n            if response[\"status\"] == \"ZERO_RESULTS\":\n                print(\"NO RESULT at row index {0}: row\".format(row))\n                continue\n            else:\n                geographical_data = response[\"results\"][0][\"geometry\"][\"location\"] # get geographical coordinates\n                latitude = geographical_data['lat']\n                longitude = geographical_data['lng']\n                dfPostalCode.iloc[row, dfPostalCode.columns.get_loc('Latitude')] = latitude\n                dfPostalCode.iloc[row, dfPostalCode.columns.get_loc('Longitude')] = longitude\n    return dfPostalCode"
        }, 
        {
            "execution_count": 17, 
            "cell_type": "code", 
            "metadata": {}, 
            "outputs": [
                {
                    "output_type": "stream", 
                    "name": "stdout", 
                    "text": "Make request to Google Geocoding API\nNO RESULT at row index 1: row\nNO RESULT at row index 2: row\nNO RESULT at row index 3: row\nNO RESULT at row index 4: row\nNO RESULT at row index 5: row\nNO RESULT at row index 6: row\nNO RESULT at row index 7: row\nNO RESULT at row index 9: row\nNO RESULT at row index 10: row\nNO RESULT at row index 11: row\nNO RESULT at row index 12: row\nNO RESULT at row index 15: row\nNO RESULT at row index 16: row\nNO RESULT at row index 17: row\nNO RESULT at row index 18: row\nNO RESULT at row index 19: row\nNO RESULT at row index 21: row\nNO RESULT at row index 22: row\nNO RESULT at row index 23: row\nNO RESULT at row index 24: row\nNO RESULT at row index 25: row\nNO RESULT at row index 26: row\nNO RESULT at row index 29: row\nNO RESULT at row index 32: row\nNO RESULT at row index 33: row\nNO RESULT at row index 37: row\nNO RESULT at row index 38: row\nNO RESULT at row index 41: row\nNO RESULT at row index 42: row\nNO RESULT at row index 44: row\nNO RESULT at row index 48: row\nNO RESULT at row index 49: row\nNO RESULT at row index 50: row\nNO RESULT at row index 54: row\nNO RESULT at row index 55: row\nNO RESULT at row index 56: row\nNO RESULT at row index 57: row\nNO RESULT at row index 59: row\nNO RESULT at row index 61: row\nNO RESULT at row index 62: row\nNO RESULT at row index 63: row\nNO RESULT at row index 65: row\nNO RESULT at row index 66: row\nNO RESULT at row index 67: row\nNO RESULT at row index 68: row\nNO RESULT at row index 69: row\nNO RESULT at row index 71: row\nNO RESULT at row index 73: row\nNO RESULT at row index 74: row\nNO RESULT at row index 75: row\nNO RESULT at row index 78: row\nNO RESULT at row index 79: row\nNO RESULT at row index 80: row\nNO RESULT at row index 81: row\nNO RESULT at row index 83: row\nNO RESULT at row index 84: row\nNO RESULT at row index 88: row\nNO RESULT at row index 89: row\nNO RESULT at row index 91: row\nNO RESULT at row index 93: row\nNO RESULT at row index 94: row\nNO RESULT at row index 95: row\nNO RESULT at row index 96: row\nNO RESULT at row index 98: row\nNO RESULT at row index 99: row\n"
                }
            ], 
            "source": "dfPostalCode = updateLatLngForTorontoPostalCode(dfPostalCode)"
        }, 
        {
            "execution_count": 19, 
            "cell_type": "code", 
            "metadata": {}, 
            "outputs": [
                {
                    "execution_count": 19, 
                    "metadata": {}, 
                    "data": {
                        "text/html": "<div>\n<style scoped>\n    .dataframe tbody tr th:only-of-type {\n        vertical-align: middle;\n    }\n\n    .dataframe tbody tr th {\n        vertical-align: top;\n    }\n\n    .dataframe thead th {\n        text-align: right;\n    }\n</style>\n<table border=\"1\" class=\"dataframe\">\n  <thead>\n    <tr style=\"text-align: right;\">\n      <th></th>\n      <th>PostalCode</th>\n      <th>Borough</th>\n      <th>Neighborhood</th>\n      <th>Latitude</th>\n      <th>Longitude</th>\n    </tr>\n  </thead>\n  <tbody>\n    <tr>\n      <th>0</th>\n      <td>M3A</td>\n      <td>North York</td>\n      <td>Parkwoods</td>\n      <td>32.363577</td>\n      <td>-90.152413</td>\n    </tr>\n    <tr>\n      <th>1</th>\n      <td>M4A</td>\n      <td>North York</td>\n      <td>Victoria Village</td>\n      <td>0.000000</td>\n      <td>0.000000</td>\n    </tr>\n    <tr>\n      <th>2</th>\n      <td>M5A</td>\n      <td>Downtown Toronto</td>\n      <td>Regent Park / Harbourfront</td>\n      <td>0.000000</td>\n      <td>0.000000</td>\n    </tr>\n    <tr>\n      <th>3</th>\n      <td>M6A</td>\n      <td>North York</td>\n      <td>Lawrence Manor / Lawrence Heights</td>\n      <td>0.000000</td>\n      <td>0.000000</td>\n    </tr>\n    <tr>\n      <th>4</th>\n      <td>M7A</td>\n      <td>Queen's Park</td>\n      <td>Queen's Park</td>\n      <td>0.000000</td>\n      <td>0.000000</td>\n    </tr>\n  </tbody>\n</table>\n</div>", 
                        "text/plain": "  PostalCode           Borough                       Neighborhood   Latitude  \\\n0        M3A        North York                          Parkwoods  32.363577   \n1        M4A        North York                   Victoria Village   0.000000   \n2        M5A  Downtown Toronto         Regent Park / Harbourfront   0.000000   \n3        M6A        North York  Lawrence Manor / Lawrence Heights   0.000000   \n4        M7A      Queen's Park                       Queen's Park   0.000000   \n\n   Longitude  \n0 -90.152413  \n1   0.000000  \n2   0.000000  \n3   0.000000  \n4   0.000000  "
                    }, 
                    "output_type": "execute_result"
                }
            ], 
            "source": "dfPostalCode.head()"
        }, 
        {
            "execution_count": 20, 
            "cell_type": "code", 
            "metadata": {}, 
            "outputs": [], 
            "source": "# Backup to use later instead of making request to Google Geoencoding API\nfnPostCodeCSV = 'TorontoPostalCode.csv'\ndfPostalCode.to_csv(fnPostCodeCSV, sep=',', encoding='utf-8', index=False)"
        }, 
        {
            "execution_count": 22, 
            "cell_type": "code", 
            "metadata": {}, 
            "outputs": [
                {
                    "execution_count": 22, 
                    "metadata": {}, 
                    "data": {
                        "text/html": "<div>\n<style scoped>\n    .dataframe tbody tr th:only-of-type {\n        vertical-align: middle;\n    }\n\n    .dataframe tbody tr th {\n        vertical-align: top;\n    }\n\n    .dataframe thead th {\n        text-align: right;\n    }\n</style>\n<table border=\"1\" class=\"dataframe\">\n  <thead>\n    <tr style=\"text-align: right;\">\n      <th></th>\n      <th>PostalCode</th>\n      <th>Borough</th>\n      <th>Neighborhood</th>\n      <th>Latitude</th>\n      <th>Longitude</th>\n    </tr>\n  </thead>\n  <tbody>\n    <tr>\n      <th>0</th>\n      <td>M3A</td>\n      <td>North York</td>\n      <td>Parkwoods</td>\n      <td>32.363577</td>\n      <td>-90.152413</td>\n    </tr>\n    <tr>\n      <th>1</th>\n      <td>M4A</td>\n      <td>North York</td>\n      <td>Victoria Village</td>\n      <td>0.000000</td>\n      <td>0.000000</td>\n    </tr>\n    <tr>\n      <th>2</th>\n      <td>M5A</td>\n      <td>Downtown Toronto</td>\n      <td>Regent Park / Harbourfront</td>\n      <td>0.000000</td>\n      <td>0.000000</td>\n    </tr>\n    <tr>\n      <th>3</th>\n      <td>M6A</td>\n      <td>North York</td>\n      <td>Lawrence Manor / Lawrence Heights</td>\n      <td>0.000000</td>\n      <td>0.000000</td>\n    </tr>\n    <tr>\n      <th>4</th>\n      <td>M7A</td>\n      <td>Queen's Park</td>\n      <td>Queen's Park</td>\n      <td>0.000000</td>\n      <td>0.000000</td>\n    </tr>\n  </tbody>\n</table>\n</div>", 
                        "text/plain": "  PostalCode           Borough                       Neighborhood   Latitude  \\\n0        M3A        North York                          Parkwoods  32.363577   \n1        M4A        North York                   Victoria Village   0.000000   \n2        M5A  Downtown Toronto         Regent Park / Harbourfront   0.000000   \n3        M6A        North York  Lawrence Manor / Lawrence Heights   0.000000   \n4        M7A      Queen's Park                       Queen's Park   0.000000   \n\n   Longitude  \n0 -90.152413  \n1   0.000000  \n2   0.000000  \n3   0.000000  \n4   0.000000  "
                    }, 
                    "output_type": "execute_result"
                }
            ], 
            "source": "# Check csv again\ndfTest = pd.read_csv('TorontoPostalCode.csv')\ndfTest.head()"
        }, 
        {
            "execution_count": null, 
            "cell_type": "code", 
            "metadata": {}, 
            "outputs": [], 
            "source": ""
        }
    ], 
    "metadata": {
        "kernelspec": {
            "display_name": "Python 3.5", 
            "name": "python3", 
            "language": "python"
        }, 
        "language_info": {
            "mimetype": "text/x-python", 
            "nbconvert_exporter": "python", 
            "version": "3.5.5", 
            "name": "python", 
            "file_extension": ".py", 
            "pygments_lexer": "ipython3", 
            "codemirror_mode": {
                "version": 3, 
                "name": "ipython"
            }
        }
    }, 
    "nbformat": 4
}